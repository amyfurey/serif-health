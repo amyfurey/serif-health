{
 "cells": [
  {
   "cell_type": "markdown",
   "id": "ea2429c2",
   "metadata": {},
   "source": [
    "# This notebook reads in the hospital and payer csv files and generates the output\n",
    "### Amy Furey"
   ]
  },
  {
   "cell_type": "markdown",
   "id": "257f5afd",
   "metadata": {},
   "source": [
    "### To run this jupyter notebook clone the serif-health repo (https://github.com/amyfurey/serif-health) and update repo_directory below to the path of the serif-health repository"
   ]
  },
  {
   "cell_type": "code",
   "execution_count": 1,
   "id": "fbb3d45b-8fb2-4e47-b9a5-337688962f33",
   "metadata": {},
   "outputs": [],
   "source": [
    "repo_directory = \"C:/Users/thoma/Desktop/MOMS STUFF/\""
   ]
  },
  {
   "cell_type": "markdown",
   "id": "f7caeaf0",
   "metadata": {},
   "source": [
    "### Install python packages"
   ]
  },
  {
   "cell_type": "code",
   "execution_count": 2,
   "id": "e7281c42",
   "metadata": {},
   "outputs": [
    {
     "name": "stdout",
     "output_type": "stream",
     "text": [
      "Requirement already satisfied: plotly in c:\\users\\thoma\\appdata\\local\\programs\\python\\python313\\lib\\site-packages (6.0.0)\n",
      "Requirement already satisfied: narwhals>=1.15.1 in c:\\users\\thoma\\appdata\\local\\programs\\python\\python313\\lib\\site-packages (from plotly) (1.25.1)\n",
      "Requirement already satisfied: packaging in c:\\users\\thoma\\appdata\\local\\programs\\python\\python313\\lib\\site-packages (from plotly) (24.2)\n"
     ]
    },
    {
     "name": "stderr",
     "output_type": "stream",
     "text": [
      "\n",
      "[notice] A new release of pip is available: 24.3.1 -> 25.0\n",
      "[notice] To update, run: python.exe -m pip install --upgrade pip\n"
     ]
    }
   ],
   "source": [
    "!pip install plotly"
   ]
  },
  {
   "cell_type": "code",
   "execution_count": 3,
   "id": "dfee8343",
   "metadata": {},
   "outputs": [
    {
     "name": "stdout",
     "output_type": "stream",
     "text": [
      "Requirement already satisfied: seaborn in c:\\users\\thoma\\appdata\\local\\programs\\python\\python313\\lib\\site-packages (0.13.2)\n",
      "Requirement already satisfied: numpy!=1.24.0,>=1.20 in c:\\users\\thoma\\appdata\\local\\programs\\python\\python313\\lib\\site-packages (from seaborn) (2.2.2)\n",
      "Requirement already satisfied: pandas>=1.2 in c:\\users\\thoma\\appdata\\local\\programs\\python\\python313\\lib\\site-packages (from seaborn) (2.2.3)\n",
      "Requirement already satisfied: matplotlib!=3.6.1,>=3.4 in c:\\users\\thoma\\appdata\\local\\programs\\python\\python313\\lib\\site-packages (from seaborn) (3.10.0)\n",
      "Requirement already satisfied: contourpy>=1.0.1 in c:\\users\\thoma\\appdata\\local\\programs\\python\\python313\\lib\\site-packages (from matplotlib!=3.6.1,>=3.4->seaborn) (1.3.1)\n",
      "Requirement already satisfied: cycler>=0.10 in c:\\users\\thoma\\appdata\\local\\programs\\python\\python313\\lib\\site-packages (from matplotlib!=3.6.1,>=3.4->seaborn) (0.12.1)\n",
      "Requirement already satisfied: fonttools>=4.22.0 in c:\\users\\thoma\\appdata\\local\\programs\\python\\python313\\lib\\site-packages (from matplotlib!=3.6.1,>=3.4->seaborn) (4.55.8)\n",
      "Requirement already satisfied: kiwisolver>=1.3.1 in c:\\users\\thoma\\appdata\\local\\programs\\python\\python313\\lib\\site-packages (from matplotlib!=3.6.1,>=3.4->seaborn) (1.4.8)\n",
      "Requirement already satisfied: packaging>=20.0 in c:\\users\\thoma\\appdata\\local\\programs\\python\\python313\\lib\\site-packages (from matplotlib!=3.6.1,>=3.4->seaborn) (24.2)\n",
      "Requirement already satisfied: pillow>=8 in c:\\users\\thoma\\appdata\\local\\programs\\python\\python313\\lib\\site-packages (from matplotlib!=3.6.1,>=3.4->seaborn) (11.1.0)\n",
      "Requirement already satisfied: pyparsing>=2.3.1 in c:\\users\\thoma\\appdata\\local\\programs\\python\\python313\\lib\\site-packages (from matplotlib!=3.6.1,>=3.4->seaborn) (3.2.1)\n",
      "Requirement already satisfied: python-dateutil>=2.7 in c:\\users\\thoma\\appdata\\local\\programs\\python\\python313\\lib\\site-packages (from matplotlib!=3.6.1,>=3.4->seaborn) (2.9.0.post0)\n",
      "Requirement already satisfied: pytz>=2020.1 in c:\\users\\thoma\\appdata\\local\\programs\\python\\python313\\lib\\site-packages (from pandas>=1.2->seaborn) (2025.1)\n",
      "Requirement already satisfied: tzdata>=2022.7 in c:\\users\\thoma\\appdata\\local\\programs\\python\\python313\\lib\\site-packages (from pandas>=1.2->seaborn) (2025.1)\n",
      "Requirement already satisfied: six>=1.5 in c:\\users\\thoma\\appdata\\local\\programs\\python\\python313\\lib\\site-packages (from python-dateutil>=2.7->matplotlib!=3.6.1,>=3.4->seaborn) (1.17.0)\n"
     ]
    },
    {
     "name": "stderr",
     "output_type": "stream",
     "text": [
      "\n",
      "[notice] A new release of pip is available: 24.3.1 -> 25.0\n",
      "[notice] To update, run: python.exe -m pip install --upgrade pip\n"
     ]
    }
   ],
   "source": [
    "!pip install seaborn"
   ]
  },
  {
   "cell_type": "code",
   "execution_count": 4,
   "id": "f55386a1-7455-4f83-bd16-1c8bfb1d393b",
   "metadata": {
    "scrolled": true
   },
   "outputs": [
    {
     "name": "stdout",
     "output_type": "stream",
     "text": [
      "Requirement already satisfied: pandas in c:\\users\\thoma\\appdata\\local\\programs\\python\\python313\\lib\\site-packages (2.2.3)\n",
      "Requirement already satisfied: numpy>=1.26.0 in c:\\users\\thoma\\appdata\\local\\programs\\python\\python313\\lib\\site-packages (from pandas) (2.2.2)\n",
      "Requirement already satisfied: python-dateutil>=2.8.2 in c:\\users\\thoma\\appdata\\local\\programs\\python\\python313\\lib\\site-packages (from pandas) (2.9.0.post0)\n",
      "Requirement already satisfied: pytz>=2020.1 in c:\\users\\thoma\\appdata\\local\\programs\\python\\python313\\lib\\site-packages (from pandas) (2025.1)\n",
      "Requirement already satisfied: tzdata>=2022.7 in c:\\users\\thoma\\appdata\\local\\programs\\python\\python313\\lib\\site-packages (from pandas) (2025.1)\n",
      "Requirement already satisfied: six>=1.5 in c:\\users\\thoma\\appdata\\local\\programs\\python\\python313\\lib\\site-packages (from python-dateutil>=2.8.2->pandas) (1.17.0)\n"
     ]
    },
    {
     "name": "stderr",
     "output_type": "stream",
     "text": [
      "\n",
      "[notice] A new release of pip is available: 24.3.1 -> 25.0\n",
      "[notice] To update, run: python.exe -m pip install --upgrade pip\n"
     ]
    }
   ],
   "source": [
    "!pip install pandas\n",
    "\n"
   ]
  },
  {
   "cell_type": "markdown",
   "id": "5fb8dfda",
   "metadata": {},
   "source": [
    "#### Set path to the repo"
   ]
  },
  {
   "cell_type": "code",
   "execution_count": 5,
   "id": "a54eaf24",
   "metadata": {},
   "outputs": [
    {
     "data": {
      "text/plain": [
       "'C:/Users/thoma/Desktop/MOMS STUFF/'"
      ]
     },
     "execution_count": 5,
     "metadata": {},
     "output_type": "execute_result"
    }
   ],
   "source": [
    "repo_directory"
   ]
  },
  {
   "cell_type": "code",
   "execution_count": 6,
   "id": "af108dec",
   "metadata": {},
   "outputs": [],
   "source": [
    "input_directory = repo_directory + \"serif-health/data/input_data/\""
   ]
  },
  {
   "cell_type": "code",
   "execution_count": 7,
   "id": "2fd6916d-343a-47c6-92af-2bfa19a2e36a",
   "metadata": {},
   "outputs": [],
   "source": [
    "#import necessary packages and set pandas displays\n",
    "import pandas as pd\n",
    "import numpy as np\n",
    "import matplotlib.pyplot as plt\n",
    "import seaborn as sns\n",
    "pd.set_option('display.max_rows', None)\n",
    "pd.set_option('display.max_columns', None)"
   ]
  },
  {
   "cell_type": "code",
   "execution_count": 8,
   "id": "ba0426a0",
   "metadata": {},
   "outputs": [],
   "source": [
    "hosp = pd.read_csv(input_directory +\"hospital_extract_20250203.csv\", dtype={'code': str, 'ein': str})"
   ]
  },
  {
   "cell_type": "code",
   "execution_count": 9,
   "id": "30b93ea8-fc1c-45fe-a0bf-dcdb275283ce",
   "metadata": {
    "scrolled": true
   },
   "outputs": [
    {
     "data": {
      "text/html": [
       "<div>\n",
       "<style scoped>\n",
       "    .dataframe tbody tr th:only-of-type {\n",
       "        vertical-align: middle;\n",
       "    }\n",
       "\n",
       "    .dataframe tbody tr th {\n",
       "        vertical-align: top;\n",
       "    }\n",
       "\n",
       "    .dataframe thead th {\n",
       "        text-align: right;\n",
       "    }\n",
       "</style>\n",
       "<table border=\"1\" class=\"dataframe\">\n",
       "  <thead>\n",
       "    <tr style=\"text-align: right;\">\n",
       "      <th></th>\n",
       "      <th>payer</th>\n",
       "      <th>network_name</th>\n",
       "      <th>network_id</th>\n",
       "      <th>network_year_month</th>\n",
       "      <th>network_region</th>\n",
       "      <th>code</th>\n",
       "      <th>code_type</th>\n",
       "      <th>ein</th>\n",
       "      <th>taxonomy_filtered_npi_list</th>\n",
       "      <th>modifier_list</th>\n",
       "      <th>billing_class</th>\n",
       "      <th>place_of_service_list</th>\n",
       "      <th>negotiation_type</th>\n",
       "      <th>arrangement</th>\n",
       "      <th>rate</th>\n",
       "      <th>cms_baseline_schedule</th>\n",
       "      <th>cms_baseline_rate</th>\n",
       "    </tr>\n",
       "  </thead>\n",
       "  <tbody>\n",
       "    <tr>\n",
       "      <th>0</th>\n",
       "      <td>unitedhealthcare</td>\n",
       "      <td>choice-plus</td>\n",
       "      <td>592bc118-0dac-4f38-949c-11dc9b3a3879</td>\n",
       "      <td>202501</td>\n",
       "      <td>USA</td>\n",
       "      <td>872</td>\n",
       "      <td>MS-DRG</td>\n",
       "      <td>131740114</td>\n",
       "      <td>1003990763,1023202793,1063525152,1063606739,10...</td>\n",
       "      <td>NaN</td>\n",
       "      <td>institutional</td>\n",
       "      <td>NaN</td>\n",
       "      <td>negotiated</td>\n",
       "      <td>ffs</td>\n",
       "      <td>15902.00</td>\n",
       "      <td>IPPS</td>\n",
       "      <td>6829.75</td>\n",
       "    </tr>\n",
       "    <tr>\n",
       "      <th>1</th>\n",
       "      <td>unitedhealthcare</td>\n",
       "      <td>choice-plus</td>\n",
       "      <td>592bc118-0dac-4f38-949c-11dc9b3a3879</td>\n",
       "      <td>202501</td>\n",
       "      <td>USA</td>\n",
       "      <td>99283</td>\n",
       "      <td>CPT</td>\n",
       "      <td>131624096</td>\n",
       "      <td>1003255670,1245759711,1487026522,1598095267,16...</td>\n",
       "      <td>NaN</td>\n",
       "      <td>professional</td>\n",
       "      <td>11</td>\n",
       "      <td>negotiated</td>\n",
       "      <td>ffs</td>\n",
       "      <td>123.86</td>\n",
       "      <td>PFS_NONFACILITY_1320201</td>\n",
       "      <td>76.89</td>\n",
       "    </tr>\n",
       "    <tr>\n",
       "      <th>2</th>\n",
       "      <td>unitedhealthcare</td>\n",
       "      <td>choice-plus</td>\n",
       "      <td>592bc118-0dac-4f38-949c-11dc9b3a3879</td>\n",
       "      <td>202501</td>\n",
       "      <td>USA</td>\n",
       "      <td>43239</td>\n",
       "      <td>CPT</td>\n",
       "      <td>131740114</td>\n",
       "      <td>1700348620,1700892056,1922539964,1942685292</td>\n",
       "      <td>NaN</td>\n",
       "      <td>professional</td>\n",
       "      <td>11</td>\n",
       "      <td>negotiated</td>\n",
       "      <td>ffs</td>\n",
       "      <td>993.92</td>\n",
       "      <td>PFS_NONFACILITY_1320202</td>\n",
       "      <td>424.76</td>\n",
       "    </tr>\n",
       "    <tr>\n",
       "      <th>3</th>\n",
       "      <td>unitedhealthcare</td>\n",
       "      <td>choice-plus</td>\n",
       "      <td>592bc118-0dac-4f38-949c-11dc9b3a3879</td>\n",
       "      <td>202501</td>\n",
       "      <td>USA</td>\n",
       "      <td>872</td>\n",
       "      <td>MS-DRG</td>\n",
       "      <td>133971298</td>\n",
       "      <td>1245635200,1437523537,1528013695,1528432622,15...</td>\n",
       "      <td>NaN</td>\n",
       "      <td>institutional</td>\n",
       "      <td>NaN</td>\n",
       "      <td>negotiated</td>\n",
       "      <td>ffs</td>\n",
       "      <td>27924.63</td>\n",
       "      <td>IPPS</td>\n",
       "      <td>6829.75</td>\n",
       "    </tr>\n",
       "    <tr>\n",
       "      <th>4</th>\n",
       "      <td>unitedhealthcare</td>\n",
       "      <td>choice-plus</td>\n",
       "      <td>592bc118-0dac-4f38-949c-11dc9b3a3879</td>\n",
       "      <td>202501</td>\n",
       "      <td>USA</td>\n",
       "      <td>43239</td>\n",
       "      <td>CPT</td>\n",
       "      <td>131740114</td>\n",
       "      <td>1346697315</td>\n",
       "      <td>NaN</td>\n",
       "      <td>professional</td>\n",
       "      <td>11</td>\n",
       "      <td>negotiated</td>\n",
       "      <td>ffs</td>\n",
       "      <td>849.63</td>\n",
       "      <td>PFS_NONFACILITY_1320203</td>\n",
       "      <td>391.85</td>\n",
       "    </tr>\n",
       "  </tbody>\n",
       "</table>\n",
       "</div>"
      ],
      "text/plain": [
       "              payer network_name                            network_id  \\\n",
       "0  unitedhealthcare  choice-plus  592bc118-0dac-4f38-949c-11dc9b3a3879   \n",
       "1  unitedhealthcare  choice-plus  592bc118-0dac-4f38-949c-11dc9b3a3879   \n",
       "2  unitedhealthcare  choice-plus  592bc118-0dac-4f38-949c-11dc9b3a3879   \n",
       "3  unitedhealthcare  choice-plus  592bc118-0dac-4f38-949c-11dc9b3a3879   \n",
       "4  unitedhealthcare  choice-plus  592bc118-0dac-4f38-949c-11dc9b3a3879   \n",
       "\n",
       "   network_year_month network_region   code code_type        ein  \\\n",
       "0              202501            USA    872    MS-DRG  131740114   \n",
       "1              202501            USA  99283       CPT  131624096   \n",
       "2              202501            USA  43239       CPT  131740114   \n",
       "3              202501            USA    872    MS-DRG  133971298   \n",
       "4              202501            USA  43239       CPT  131740114   \n",
       "\n",
       "                          taxonomy_filtered_npi_list modifier_list  \\\n",
       "0  1003990763,1023202793,1063525152,1063606739,10...           NaN   \n",
       "1  1003255670,1245759711,1487026522,1598095267,16...           NaN   \n",
       "2        1700348620,1700892056,1922539964,1942685292           NaN   \n",
       "3  1245635200,1437523537,1528013695,1528432622,15...           NaN   \n",
       "4                                         1346697315           NaN   \n",
       "\n",
       "   billing_class place_of_service_list negotiation_type arrangement      rate  \\\n",
       "0  institutional                   NaN       negotiated         ffs  15902.00   \n",
       "1   professional                    11       negotiated         ffs    123.86   \n",
       "2   professional                    11       negotiated         ffs    993.92   \n",
       "3  institutional                   NaN       negotiated         ffs  27924.63   \n",
       "4   professional                    11       negotiated         ffs    849.63   \n",
       "\n",
       "     cms_baseline_schedule  cms_baseline_rate  \n",
       "0                     IPPS            6829.75  \n",
       "1  PFS_NONFACILITY_1320201              76.89  \n",
       "2  PFS_NONFACILITY_1320202             424.76  \n",
       "3                     IPPS            6829.75  \n",
       "4  PFS_NONFACILITY_1320203             391.85  "
      ]
     },
     "execution_count": 9,
     "metadata": {},
     "output_type": "execute_result"
    }
   ],
   "source": [
    "hosp.head()"
   ]
  },
  {
   "cell_type": "code",
   "execution_count": 10,
   "id": "f8d06bd8-89e9-4f0b-828e-c8952aaf1984",
   "metadata": {},
   "outputs": [],
   "source": [
    "payer = pd.read_csv(input_directory + \"payer_extract_20250203.csv\", dtype={'raw_code': str})"
   ]
  },
  {
   "cell_type": "code",
   "execution_count": 11,
   "id": "cb486afd-1364-4bc9-8272-e629ad2ba1aa",
   "metadata": {
    "scrolled": true
   },
   "outputs": [
    {
     "data": {
      "text/html": [
       "<div>\n",
       "<style scoped>\n",
       "    .dataframe tbody tr th:only-of-type {\n",
       "        vertical-align: middle;\n",
       "    }\n",
       "\n",
       "    .dataframe tbody tr th {\n",
       "        vertical-align: top;\n",
       "    }\n",
       "\n",
       "    .dataframe thead th {\n",
       "        text-align: right;\n",
       "    }\n",
       "</style>\n",
       "<table border=\"1\" class=\"dataframe\">\n",
       "  <thead>\n",
       "    <tr style=\"text-align: right;\">\n",
       "      <th></th>\n",
       "      <th>source_file_name</th>\n",
       "      <th>hospital_id</th>\n",
       "      <th>hospital_name</th>\n",
       "      <th>last_updated_on</th>\n",
       "      <th>hospital_state</th>\n",
       "      <th>license_number</th>\n",
       "      <th>payer_name</th>\n",
       "      <th>plan_name</th>\n",
       "      <th>code_type</th>\n",
       "      <th>raw_code</th>\n",
       "      <th>description</th>\n",
       "      <th>setting</th>\n",
       "      <th>modifiers</th>\n",
       "      <th>standard_charge_gross</th>\n",
       "      <th>standard_charge_discounted_cash</th>\n",
       "      <th>standard_charge_negotiated_dollar</th>\n",
       "      <th>standard_charge_negotiated_percentage</th>\n",
       "      <th>standard_charge_min</th>\n",
       "      <th>standard_charge_max</th>\n",
       "      <th>standard_charge_methodology</th>\n",
       "      <th>additional_payer_notes</th>\n",
       "      <th>additional_generic_notes</th>\n",
       "    </tr>\n",
       "  </thead>\n",
       "  <tbody>\n",
       "    <tr>\n",
       "      <th>0</th>\n",
       "      <td>13-1740114_montefiore-medical-center_standardc...</td>\n",
       "      <td>62915ae8-8d64-4e2f-b05f-b18edde57a3d</td>\n",
       "      <td>Montefiore Medical Center</td>\n",
       "      <td>2024-07-01</td>\n",
       "      <td>NY</td>\n",
       "      <td>13-1740114</td>\n",
       "      <td>Aetna</td>\n",
       "      <td>Medicare</td>\n",
       "      <td>CPT</td>\n",
       "      <td>99283</td>\n",
       "      <td>EMERGENCY DEPT VISIT LOW MDM</td>\n",
       "      <td>outpatient</td>\n",
       "      <td>NaN</td>\n",
       "      <td>NaN</td>\n",
       "      <td>NaN</td>\n",
       "      <td>323.34</td>\n",
       "      <td>NaN</td>\n",
       "      <td>83.78</td>\n",
       "      <td>1009.22</td>\n",
       "      <td>fee schedule</td>\n",
       "      <td>NaN</td>\n",
       "      <td>NaN</td>\n",
       "    </tr>\n",
       "    <tr>\n",
       "      <th>1</th>\n",
       "      <td>13-1740114_montefiore-medical-center_standardc...</td>\n",
       "      <td>62915ae8-8d64-4e2f-b05f-b18edde57a3d</td>\n",
       "      <td>Montefiore Medical Center</td>\n",
       "      <td>2024-07-01</td>\n",
       "      <td>NY</td>\n",
       "      <td>13-1740114</td>\n",
       "      <td>HealthFirst</td>\n",
       "      <td>Commercial Enrollees</td>\n",
       "      <td>CPT</td>\n",
       "      <td>43239</td>\n",
       "      <td>EGD BIOPSY SINGLE/MULTIPLE</td>\n",
       "      <td>outpatient</td>\n",
       "      <td>NaN</td>\n",
       "      <td>NaN</td>\n",
       "      <td>NaN</td>\n",
       "      <td>1037.65</td>\n",
       "      <td>NaN</td>\n",
       "      <td>165.40</td>\n",
       "      <td>3206.34</td>\n",
       "      <td>fee schedule</td>\n",
       "      <td>NaN</td>\n",
       "      <td>NaN</td>\n",
       "    </tr>\n",
       "    <tr>\n",
       "      <th>2</th>\n",
       "      <td>13-1740114_montefiore-medical-center_standardc...</td>\n",
       "      <td>62915ae8-8d64-4e2f-b05f-b18edde57a3d</td>\n",
       "      <td>Montefiore Medical Center</td>\n",
       "      <td>2024-07-01</td>\n",
       "      <td>NY</td>\n",
       "      <td>13-1740114</td>\n",
       "      <td>Aetna</td>\n",
       "      <td>Commercial</td>\n",
       "      <td>CPT</td>\n",
       "      <td>43239</td>\n",
       "      <td>UPPER GI ENDOSCOPY BIOPSY</td>\n",
       "      <td>outpatient</td>\n",
       "      <td>NaN</td>\n",
       "      <td>NaN</td>\n",
       "      <td>NaN</td>\n",
       "      <td>1246.73</td>\n",
       "      <td>NaN</td>\n",
       "      <td>1246.73</td>\n",
       "      <td>1394.79</td>\n",
       "      <td>fee schedule</td>\n",
       "      <td>NaN</td>\n",
       "      <td>NaN</td>\n",
       "    </tr>\n",
       "    <tr>\n",
       "      <th>3</th>\n",
       "      <td>13-1740114_montefiore-medical-center_standardc...</td>\n",
       "      <td>62915ae8-8d64-4e2f-b05f-b18edde57a3d</td>\n",
       "      <td>Montefiore Medical Center</td>\n",
       "      <td>2024-07-01</td>\n",
       "      <td>NY</td>\n",
       "      <td>13-1740114</td>\n",
       "      <td>Cigna</td>\n",
       "      <td>LocalPlus</td>\n",
       "      <td>CPT</td>\n",
       "      <td>99283</td>\n",
       "      <td>HC EMERGENCY DEPT VISIT LVL 3</td>\n",
       "      <td>outpatient</td>\n",
       "      <td>NaN</td>\n",
       "      <td>3744.0</td>\n",
       "      <td>2433.6</td>\n",
       "      <td>1797.00</td>\n",
       "      <td>NaN</td>\n",
       "      <td>225.00</td>\n",
       "      <td>1797.00</td>\n",
       "      <td>other</td>\n",
       "      <td>NaN</td>\n",
       "      <td>per visit</td>\n",
       "    </tr>\n",
       "    <tr>\n",
       "      <th>4</th>\n",
       "      <td>13-1740114_montefiore-medical-center_standardc...</td>\n",
       "      <td>62915ae8-8d64-4e2f-b05f-b18edde57a3d</td>\n",
       "      <td>Montefiore Medical Center</td>\n",
       "      <td>2024-07-01</td>\n",
       "      <td>NY</td>\n",
       "      <td>13-1740114</td>\n",
       "      <td>Oscar</td>\n",
       "      <td>Medicare</td>\n",
       "      <td>CPT</td>\n",
       "      <td>43239</td>\n",
       "      <td>EGD BIOPSY SINGLE/MULTIPLE</td>\n",
       "      <td>outpatient</td>\n",
       "      <td>NaN</td>\n",
       "      <td>NaN</td>\n",
       "      <td>NaN</td>\n",
       "      <td>1037.65</td>\n",
       "      <td>NaN</td>\n",
       "      <td>141.77</td>\n",
       "      <td>1815.10</td>\n",
       "      <td>fee schedule</td>\n",
       "      <td>NaN</td>\n",
       "      <td>NaN</td>\n",
       "    </tr>\n",
       "  </tbody>\n",
       "</table>\n",
       "</div>"
      ],
      "text/plain": [
       "                                    source_file_name  \\\n",
       "0  13-1740114_montefiore-medical-center_standardc...   \n",
       "1  13-1740114_montefiore-medical-center_standardc...   \n",
       "2  13-1740114_montefiore-medical-center_standardc...   \n",
       "3  13-1740114_montefiore-medical-center_standardc...   \n",
       "4  13-1740114_montefiore-medical-center_standardc...   \n",
       "\n",
       "                            hospital_id              hospital_name  \\\n",
       "0  62915ae8-8d64-4e2f-b05f-b18edde57a3d  Montefiore Medical Center   \n",
       "1  62915ae8-8d64-4e2f-b05f-b18edde57a3d  Montefiore Medical Center   \n",
       "2  62915ae8-8d64-4e2f-b05f-b18edde57a3d  Montefiore Medical Center   \n",
       "3  62915ae8-8d64-4e2f-b05f-b18edde57a3d  Montefiore Medical Center   \n",
       "4  62915ae8-8d64-4e2f-b05f-b18edde57a3d  Montefiore Medical Center   \n",
       "\n",
       "  last_updated_on hospital_state license_number   payer_name  \\\n",
       "0      2024-07-01             NY     13-1740114        Aetna   \n",
       "1      2024-07-01             NY     13-1740114  HealthFirst   \n",
       "2      2024-07-01             NY     13-1740114        Aetna   \n",
       "3      2024-07-01             NY     13-1740114        Cigna   \n",
       "4      2024-07-01             NY     13-1740114        Oscar   \n",
       "\n",
       "              plan_name code_type raw_code                    description  \\\n",
       "0              Medicare       CPT    99283   EMERGENCY DEPT VISIT LOW MDM   \n",
       "1  Commercial Enrollees       CPT    43239     EGD BIOPSY SINGLE/MULTIPLE   \n",
       "2            Commercial       CPT    43239      UPPER GI ENDOSCOPY BIOPSY   \n",
       "3             LocalPlus       CPT    99283  HC EMERGENCY DEPT VISIT LVL 3   \n",
       "4              Medicare       CPT    43239     EGD BIOPSY SINGLE/MULTIPLE   \n",
       "\n",
       "      setting modifiers  standard_charge_gross  \\\n",
       "0  outpatient       NaN                    NaN   \n",
       "1  outpatient       NaN                    NaN   \n",
       "2  outpatient       NaN                    NaN   \n",
       "3  outpatient       NaN                 3744.0   \n",
       "4  outpatient       NaN                    NaN   \n",
       "\n",
       "   standard_charge_discounted_cash  standard_charge_negotiated_dollar  \\\n",
       "0                              NaN                             323.34   \n",
       "1                              NaN                            1037.65   \n",
       "2                              NaN                            1246.73   \n",
       "3                           2433.6                            1797.00   \n",
       "4                              NaN                            1037.65   \n",
       "\n",
       "   standard_charge_negotiated_percentage  standard_charge_min  \\\n",
       "0                                    NaN                83.78   \n",
       "1                                    NaN               165.40   \n",
       "2                                    NaN              1246.73   \n",
       "3                                    NaN               225.00   \n",
       "4                                    NaN               141.77   \n",
       "\n",
       "   standard_charge_max standard_charge_methodology additional_payer_notes  \\\n",
       "0              1009.22                fee schedule                    NaN   \n",
       "1              3206.34                fee schedule                    NaN   \n",
       "2              1394.79                fee schedule                    NaN   \n",
       "3              1797.00                       other                    NaN   \n",
       "4              1815.10                fee schedule                    NaN   \n",
       "\n",
       "  additional_generic_notes  \n",
       "0                      NaN  \n",
       "1                      NaN  \n",
       "2                      NaN  \n",
       "3                per visit  \n",
       "4                      NaN  "
      ]
     },
     "execution_count": 11,
     "metadata": {},
     "output_type": "execute_result"
    }
   ],
   "source": [
    "payer.head()"
   ]
  },
  {
   "cell_type": "markdown",
   "id": "8dd4ed59",
   "metadata": {},
   "source": [
    "### Standardize string columns to lower case"
   ]
  },
  {
   "cell_type": "code",
   "execution_count": 12,
   "id": "bd42258b-a20b-40c7-802c-2a3499d0fd65",
   "metadata": {},
   "outputs": [],
   "source": [
    "payer[\"hospital_name\"] = payer[\"hospital_name\"].str.lower()\n",
    "payer[\"payer_name\"] = payer[\"payer_name\"].str.lower()\n",
    "payer[\"plan_name\"] = payer[\"plan_name\"].str.lower()\n",
    "payer[\"code_type\"] = payer[\"code_type\"].str.lower()"
   ]
  },
  {
   "cell_type": "code",
   "execution_count": 13,
   "id": "2f4b2ad8-7516-4d82-8e20-8cc7f39c270e",
   "metadata": {},
   "outputs": [],
   "source": [
    "hosp[\"payer\"] = hosp[\"payer\"].str.lower()\n",
    "hosp[\"network_name\"] = hosp[\"network_name\"].str.lower()\n",
    "hosp[\"code_type\"] = hosp[\"code_type\"].str.lower()\n",
    "hosp[\"cms_baseline_schedule\"] = hosp[\"cms_baseline_schedule\"].str.lower()"
   ]
  },
  {
   "cell_type": "markdown",
   "id": "2e886107",
   "metadata": {},
   "source": [
    "#### Extract first 9 digits of source_file_name "
   ]
  },
  {
   "cell_type": "code",
   "execution_count": 14,
   "id": "6df50860-a5ec-465e-a21b-dd1796269908",
   "metadata": {},
   "outputs": [],
   "source": [
    "# get all characters in source_file_name before the first underscore\n",
    "payer[\"ein\"] = payer[\"source_file_name\"].str.split('_').str[0]"
   ]
  },
  {
   "cell_type": "code",
   "execution_count": 15,
   "id": "8d3a0d36-e74c-4eef-8fdb-975c8e6493a9",
   "metadata": {},
   "outputs": [],
   "source": [
    "# remove any hyphens then extract the first nine characters\n",
    "payer[\"ein\"] = payer['ein'].str.replace('-', '', regex=False).str[:9] \n"
   ]
  },
  {
   "cell_type": "code",
   "execution_count": 16,
   "id": "351a4a72-3e9e-43a6-92a6-c7bcf802144e",
   "metadata": {},
   "outputs": [],
   "source": [
    "# remove any MS-DRG found in the raw_code\n",
    "payer[\"code\"] = payer[\"raw_code\"].str.replace(\"MS-DRG \", '', regex=False)"
   ]
  },
  {
   "cell_type": "markdown",
   "id": "62a5e439",
   "metadata": {},
   "source": [
    "#### Create a new column payer and assign payer names as they are in the hosp df"
   ]
  },
  {
   "cell_type": "code",
   "execution_count": 17,
   "id": "32aa4fd6-9640-44e0-a565-4cb1281e5351",
   "metadata": {},
   "outputs": [],
   "source": [
    "conditions = [\n",
    "    payer['payer_name'].str.lower() == 'aetna',\n",
    "    payer['payer_name'].str.lower() == 'cigna',\n",
    "    payer['payer_name'].str.lower().isin(['united', 'united healthcare', 'uhc'])\n",
    "]\n",
    "\n",
    "results = ['aetna', 'cigna-corporation', 'unitedhealthcare']\n",
    "\n",
    "# Use np.select to create the 'payer' column based on the conditions\n",
    "payer['payer'] = np.select(conditions, results, default= payer['payer_name']) \n"
   ]
  },
  {
   "cell_type": "code",
   "execution_count": 18,
   "id": "c5be93e9-39ff-4bc6-93d9-8f05645634c5",
   "metadata": {},
   "outputs": [
    {
     "data": {
      "text/plain": [
       "(2950, 25)"
      ]
     },
     "execution_count": 18,
     "metadata": {},
     "output_type": "execute_result"
    }
   ],
   "source": [
    "payer.shape"
   ]
  },
  {
   "cell_type": "code",
   "execution_count": 19,
   "id": "51522ed8-d58b-4f58-b088-eb93a92895f7",
   "metadata": {},
   "outputs": [
    {
     "data": {
      "text/plain": [
       "(222, 17)"
      ]
     },
     "execution_count": 19,
     "metadata": {},
     "output_type": "execute_result"
    }
   ],
   "source": [
    "hosp.shape"
   ]
  },
  {
   "cell_type": "code",
   "execution_count": 20,
   "id": "c40fb8b3",
   "metadata": {},
   "outputs": [],
   "source": [
    "# Merge the hosp and payer dataframes\n",
    "all = payer.merge(hosp, on=[\"code\", \"payer\", \"ein\", \"code_type\"], how=\"outer\")"
   ]
  },
  {
   "cell_type": "code",
   "execution_count": 21,
   "id": "dcf27cce",
   "metadata": {},
   "outputs": [],
   "source": [
    "# Set an indicator to Yes if data is available in both dataframes, otherwise set to No\n",
    "all[\"match_indicator\"] = np.where((all['network_name'].notnull()) & (all['source_file_name'].notnull()), \"Yes\", \"No\")"
   ]
  },
  {
   "cell_type": "code",
   "execution_count": 22,
   "id": "6bf23c8a",
   "metadata": {},
   "outputs": [
    {
     "data": {
      "text/plain": [
       "match_indicator\n",
       "Yes    2837\n",
       "No     2655\n",
       "Name: count, dtype: int64"
      ]
     },
     "execution_count": 22,
     "metadata": {},
     "output_type": "execute_result"
    }
   ],
   "source": [
    "all['match_indicator'].value_counts()"
   ]
  },
  {
   "cell_type": "code",
   "execution_count": 23,
   "id": "58219ee1",
   "metadata": {},
   "outputs": [
    {
     "data": {
      "text/plain": [
       "hospital_name              match_indicator\n",
       "montefiore medical center  Yes                 842\n",
       "                           No                  336\n",
       "nyu langone                No                 2088\n",
       "                           Yes                1861\n",
       "the mount sinai hospital   No                  226\n",
       "                           Yes                 134\n",
       "Name: count, dtype: int64"
      ]
     },
     "execution_count": 23,
     "metadata": {},
     "output_type": "execute_result"
    }
   ],
   "source": [
    "all.groupby('hospital_name')['match_indicator'].value_counts()"
   ]
  },
  {
   "cell_type": "code",
   "execution_count": 24,
   "id": "7ebcf45b",
   "metadata": {},
   "outputs": [
    {
     "data": {
      "text/plain": [
       "match_indicator\n",
       "Yes    51.656956\n",
       "No     48.343044\n",
       "Name: proportion, dtype: float64"
      ]
     },
     "execution_count": 24,
     "metadata": {},
     "output_type": "execute_result"
    }
   ],
   "source": [
    "all['match_indicator'].value_counts(normalize=True) * 100"
   ]
  },
  {
   "cell_type": "code",
   "execution_count": 25,
   "id": "b8539113",
   "metadata": {},
   "outputs": [],
   "source": [
    "# If standard_charge_negotiated_dollor is not missing assign the payer rate to the value in standard_charge_negotiated_dollor otherwise use the standard_charge_negotiated_percentage to \n",
    "#calculate the rate.\n",
    "all['payer_rate'] = np.where(all['standard_charge_negotiated_dollar'].notnull(), all['standard_charge_negotiated_dollar'],all['standard_charge_negotiated_percentage'] * all['rate'] / 100)"
   ]
  },
  {
   "cell_type": "code",
   "execution_count": 26,
   "id": "77c02403",
   "metadata": {},
   "outputs": [],
   "source": [
    "all[\"rate_delta\"] = all['rate'] - all['payer_rate']"
   ]
  },
  {
   "cell_type": "markdown",
   "id": "2d0a1526",
   "metadata": {},
   "source": [
    "#### Create a reduced dataframe of all df to just specific  for readability"
   ]
  },
  {
   "cell_type": "code",
   "execution_count": 27,
   "id": "aca06e33",
   "metadata": {},
   "outputs": [],
   "source": [
    "reduced_df = all[['hospital_name', 'payer', \n",
    "       'code_type', 'code', 'description', 'standard_charge_negotiated_dollar','standard_charge_negotiated_percentage', 'ein',\n",
    "       'rate', 'match_indicator', 'payer_rate', 'rate_delta']]"
   ]
  },
  {
   "cell_type": "code",
   "execution_count": 28,
   "id": "464a5a14",
   "metadata": {},
   "outputs": [
    {
     "data": {
      "text/html": [
       "<div>\n",
       "<style scoped>\n",
       "    .dataframe tbody tr th:only-of-type {\n",
       "        vertical-align: middle;\n",
       "    }\n",
       "\n",
       "    .dataframe tbody tr th {\n",
       "        vertical-align: top;\n",
       "    }\n",
       "\n",
       "    .dataframe thead th {\n",
       "        text-align: right;\n",
       "    }\n",
       "</style>\n",
       "<table border=\"1\" class=\"dataframe\">\n",
       "  <thead>\n",
       "    <tr style=\"text-align: right;\">\n",
       "      <th></th>\n",
       "      <th>hospital_name</th>\n",
       "      <th>payer</th>\n",
       "      <th>code_type</th>\n",
       "      <th>code</th>\n",
       "      <th>description</th>\n",
       "      <th>standard_charge_negotiated_dollar</th>\n",
       "      <th>standard_charge_negotiated_percentage</th>\n",
       "      <th>ein</th>\n",
       "      <th>rate</th>\n",
       "      <th>match_indicator</th>\n",
       "      <th>payer_rate</th>\n",
       "      <th>rate_delta</th>\n",
       "    </tr>\n",
       "  </thead>\n",
       "  <tbody>\n",
       "    <tr>\n",
       "      <th>0</th>\n",
       "      <td>the mount sinai hospital</td>\n",
       "      <td>1199</td>\n",
       "      <td>cpt</td>\n",
       "      <td>43239</td>\n",
       "      <td>HC Egd Transoral Biopsy Single/Multiple</td>\n",
       "      <td>174.00</td>\n",
       "      <td>NaN</td>\n",
       "      <td>131624096</td>\n",
       "      <td>NaN</td>\n",
       "      <td>No</td>\n",
       "      <td>174.00</td>\n",
       "      <td>NaN</td>\n",
       "    </tr>\n",
       "    <tr>\n",
       "      <th>1</th>\n",
       "      <td>the mount sinai hospital</td>\n",
       "      <td>1199</td>\n",
       "      <td>cpt</td>\n",
       "      <td>43239</td>\n",
       "      <td>Egd biopsy single/multiple</td>\n",
       "      <td>2719.00</td>\n",
       "      <td>NaN</td>\n",
       "      <td>131624096</td>\n",
       "      <td>NaN</td>\n",
       "      <td>No</td>\n",
       "      <td>2719.00</td>\n",
       "      <td>NaN</td>\n",
       "    </tr>\n",
       "    <tr>\n",
       "      <th>2</th>\n",
       "      <td>nyu langone</td>\n",
       "      <td>1199</td>\n",
       "      <td>cpt</td>\n",
       "      <td>43239</td>\n",
       "      <td>HC UGI W BX. SGL/MULTIPLE</td>\n",
       "      <td>1248.57</td>\n",
       "      <td>NaN</td>\n",
       "      <td>133971298</td>\n",
       "      <td>NaN</td>\n",
       "      <td>No</td>\n",
       "      <td>1248.57</td>\n",
       "      <td>NaN</td>\n",
       "    </tr>\n",
       "    <tr>\n",
       "      <th>3</th>\n",
       "      <td>nyu langone</td>\n",
       "      <td>1199</td>\n",
       "      <td>cpt</td>\n",
       "      <td>43239</td>\n",
       "      <td>HC UGI W BX. SGL/MULTIPLE</td>\n",
       "      <td>5713.00</td>\n",
       "      <td>NaN</td>\n",
       "      <td>133971298</td>\n",
       "      <td>NaN</td>\n",
       "      <td>No</td>\n",
       "      <td>5713.00</td>\n",
       "      <td>NaN</td>\n",
       "    </tr>\n",
       "    <tr>\n",
       "      <th>4</th>\n",
       "      <td>nyu langone</td>\n",
       "      <td>1199</td>\n",
       "      <td>cpt</td>\n",
       "      <td>43239</td>\n",
       "      <td>HC UGI W BX. SGL/MULTIPLE</td>\n",
       "      <td>5713.00</td>\n",
       "      <td>NaN</td>\n",
       "      <td>133971298</td>\n",
       "      <td>NaN</td>\n",
       "      <td>No</td>\n",
       "      <td>5713.00</td>\n",
       "      <td>NaN</td>\n",
       "    </tr>\n",
       "  </tbody>\n",
       "</table>\n",
       "</div>"
      ],
      "text/plain": [
       "              hospital_name payer code_type   code  \\\n",
       "0  the mount sinai hospital  1199       cpt  43239   \n",
       "1  the mount sinai hospital  1199       cpt  43239   \n",
       "2               nyu langone  1199       cpt  43239   \n",
       "3               nyu langone  1199       cpt  43239   \n",
       "4               nyu langone  1199       cpt  43239   \n",
       "\n",
       "                               description  standard_charge_negotiated_dollar  \\\n",
       "0  HC Egd Transoral Biopsy Single/Multiple                             174.00   \n",
       "1               Egd biopsy single/multiple                            2719.00   \n",
       "2                HC UGI W BX. SGL/MULTIPLE                            1248.57   \n",
       "3                HC UGI W BX. SGL/MULTIPLE                            5713.00   \n",
       "4                HC UGI W BX. SGL/MULTIPLE                            5713.00   \n",
       "\n",
       "   standard_charge_negotiated_percentage        ein  rate match_indicator  \\\n",
       "0                                    NaN  131624096   NaN              No   \n",
       "1                                    NaN  131624096   NaN              No   \n",
       "2                                    NaN  133971298   NaN              No   \n",
       "3                                    NaN  133971298   NaN              No   \n",
       "4                                    NaN  133971298   NaN              No   \n",
       "\n",
       "   payer_rate  rate_delta  \n",
       "0      174.00         NaN  \n",
       "1     2719.00         NaN  \n",
       "2     1248.57         NaN  \n",
       "3     5713.00         NaN  \n",
       "4     5713.00         NaN  "
      ]
     },
     "execution_count": 28,
     "metadata": {},
     "output_type": "execute_result"
    }
   ],
   "source": [
    "reduced_df.head()\n"
   ]
  },
  {
   "cell_type": "markdown",
   "id": "03318be7",
   "metadata": {},
   "source": [
    "#### Output both dataframes, all and reduced_df to csv files"
   ]
  },
  {
   "cell_type": "code",
   "execution_count": 29,
   "id": "92c7853f",
   "metadata": {},
   "outputs": [],
   "source": [
    "output_directory = repo_directory + \"serif-health/data/output_data/\""
   ]
  },
  {
   "cell_type": "code",
   "execution_count": 30,
   "id": "5941f802",
   "metadata": {},
   "outputs": [],
   "source": [
    "all.to_csv(output_directory + \"all_df.csv\", index = False)"
   ]
  },
  {
   "cell_type": "code",
   "execution_count": 31,
   "id": "9bfabec0",
   "metadata": {},
   "outputs": [],
   "source": [
    "\n",
    "reduced_df.to_csv(output_directory + \"reduced_df.csv\", index = False)"
   ]
  },
  {
   "cell_type": "markdown",
   "id": "d1b565e8",
   "metadata": {},
   "source": [
    "# This graph was just for fun."
   ]
  },
  {
   "cell_type": "code",
   "execution_count": 32,
   "id": "e7024a95",
   "metadata": {},
   "outputs": [
    {
     "data": {
      "image/png": "[encoded data removed]",
      "text/plain": [
       "<Figure size 1000x600 with 2 Axes>"
      ]
     },
     "metadata": {},
     "output_type": "display_data"
    }
   ],
   "source": [
    "# Aggregate the Rate Delta by Hospital, CPT Code, and Payer (mean in this case)\n",
    "agg_df = reduced_df.loc[reduced_df['match_indicator'] == \"Yes\"].groupby(['hospital_name', 'code', 'payer'])['rate_delta'].mean().reset_index()\n",
    "\n",
    "# Pivot the DataFrame to prepare it for visualization\n",
    "# Rows: Hospitals, Columns: Payers, Values: Aggregated Rate Delta\n",
    "agg_df = reduced_df.groupby(['hospital_name', 'code', 'payer'])['rate_delta'].mean().reset_index()\n",
    "pivot_df = agg_df.pivot_table(index=['hospital_name', 'code'], columns='payer', values='rate_delta', aggfunc='first')\n",
    "\n",
    "# Set up the visualization\n",
    "plt.figure(figsize=(10, 6))\n",
    "sns.heatmap(pivot_df, annot=True, cmap='coolwarm', center=0, linewidths=0.5, fmt='.2f', cbar_kws={'label': 'rate_delta'})\n",
    "\n",
    "# Add labels and title\n",
    "plt.title('Comparison of Average Rate Delta by Payer, Hospital, and Code')\n",
    "plt.xlabel('Payer')\n",
    "plt.ylabel('Hospital and Code')\n",
    "\n",
    "# Show the plot\n",
    "plt.tight_layout()\n",
    "plt.show()\n"
   ]
  }
 ],
 "metadata": {
  "kernelspec": {
   "display_name": "Python 3",
   "language": "python",
   "name": "python3"
  },
  "language_info": {
   "codemirror_mode": {
    "name": "ipython",
    "version": 3
   },
   "file_extension": ".py",
   "mimetype": "text/x-python",
   "name": "python",
   "nbconvert_exporter": "python",
   "pygments_lexer": "ipython3",
   "version": "3.13.1"
  }
 },
 "nbformat": 4,
 "nbformat_minor": 5
}
